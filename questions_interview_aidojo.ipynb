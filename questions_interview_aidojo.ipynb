{
  "nbformat": 4,
  "nbformat_minor": 0,
  "metadata": {
    "colab": {
      "provenance": [],
      "toc_visible": true,
      "authorship_tag": "ABX9TyOHD4W6yLHWTF+CRc43uNXC",
      "include_colab_link": true
    },
    "kernelspec": {
      "name": "python3",
      "display_name": "Python 3"
    },
    "language_info": {
      "name": "python"
    }
  },
  "cells": [
    {
      "cell_type": "markdown",
      "metadata": {
        "id": "view-in-github",
        "colab_type": "text"
      },
      "source": [
        "<a href=\"https://colab.research.google.com/github/shahlaa1212/questions_interview_aidojo/blob/main/questions_interview_aidojo.ipynb\" target=\"_parent\"><img src=\"https://colab.research.google.com/assets/colab-badge.svg\" alt=\"Open In Colab\"/></a>"
      ]
    },
    {
      "cell_type": "markdown",
      "source": [
        "# Question interview in aidojo"
      ],
      "metadata": {
        "id": "OQamEAmxVQbY"
      }
    },
    {
      "cell_type": "markdown",
      "source": [
        "## First program 😀\n",
        "\n",
        "> write program count total in string do not using split\n"
      ],
      "metadata": {
        "id": "0wbDlP9IVWaP"
      }
    },
    {
      "cell_type": "code",
      "source": [
        "# using split method in python\n",
        "\n",
        "def count_word(words):\n",
        "  #welcome = str(\"hello world\")\n",
        "  print(len(words))\n",
        "\n",
        "  words_sprated = words.split()\n",
        "  print(words_sprated)\n",
        "\n",
        "  number_of_words = len(words_sprated)\n",
        "  print(number_of_words)\n",
        "\n",
        "enter_word = input(\"enter the words :\")\n",
        "count_word(enter_word)  "
      ],
      "metadata": {
        "colab": {
          "base_uri": "https://localhost:8080/"
        },
        "id": "abGNRAsYVkcO",
        "outputId": "eb595f9b-89eb-4db0-b9af-5fc8ad625a10"
      },
      "execution_count": 3,
      "outputs": [
        {
          "output_type": "stream",
          "name": "stdout",
          "text": [
            "enter the words :aidojo\n",
            "6\n",
            "['aidojo']\n",
            "1\n"
          ]
        }
      ]
    },
    {
      "cell_type": "markdown",
      "source": [
        "## Second program ✊ \n",
        "\n",
        "> write program reverse string do not using reverse function(built_in)\n"
      ],
      "metadata": {
        "id": "p4gKaOO6VXF2"
      }
    },
    {
      "cell_type": "code",
      "source": [
        "def reverse_word(x):\n",
        "\n",
        "  #print( text_word.reverse())\n",
        "  return x[::-1]\n",
        "\n",
        "text_word = (\"l love pyhon language\")\n",
        "print(text_word)\n",
        "    \n",
        "print(reverse_word(text_word))  "
      ],
      "metadata": {
        "id": "L4fP5DRFVrr4"
      },
      "execution_count": null,
      "outputs": []
    }
  ]
}